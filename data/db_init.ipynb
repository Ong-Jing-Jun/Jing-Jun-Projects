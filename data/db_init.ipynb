{
 "cells": [
  {
   "cell_type": "markdown",
   "metadata": {},
   "source": [
    "# DB Initialisation Script\n",
    "\n",
    "This notebook can be used for setting up local Postgres database called 'amazon' and for querying the database\n",
    "\n",
    "To get started, please change the env variables in the next code chunk and simply 'Run All' to load the database.\n",
    "\n",
    "Ensure that your .venv is activated in this Jupyter environment."
   ]
  },
  {
   "cell_type": "code",
   "execution_count": 1,
   "metadata": {},
   "outputs": [],
   "source": [
    "path_to_products_csv = 'products.csv'\n",
    "path_to_online_sales_csv = 'online_sales_edited.csv'"
   ]
  },
  {
   "cell_type": "markdown",
   "metadata": {},
   "source": [
    "## Set Up"
   ]
  },
  {
   "cell_type": "code",
   "execution_count": 2,
   "metadata": {},
   "outputs": [],
   "source": [
    "from sqlalchemy import create_engine, Table, Column, MetaData, String, Numeric, Float, Integer, ForeignKey, Date, ForeignKeyConstraint,DateTime\n",
    "import pandas as pd\n",
    "import psycopg2\n",
    "from dotenv import load_dotenv\n",
    "import os"
   ]
  },
  {
   "cell_type": "code",
   "execution_count": 3,
   "metadata": {},
   "outputs": [],
   "source": [
    "# Load from .env file\n",
    "current_dir = os.getcwd()\n",
    "parent_dir = os.path.dirname(current_dir)\n",
    "\n",
    "load_dotenv(f'{parent_dir}/.env')\n",
    "\n",
    "postgres_password = os.getenv('POSTGRES_PASSWORD')\n",
    "postgres_port_no = os.getenv('POSTGRES_PORT')\n",
    "host = os.getenv('POSTGRES_HOST')\n",
    "database = os.getenv('POSTGRES_DB')\n",
    "user = os.getenv('POSTGRES_USER')"
   ]
  },
  {
   "cell_type": "code",
   "execution_count": 4,
   "metadata": {},
   "outputs": [
    {
     "name": "stdout",
     "output_type": "stream",
     "text": [
      "Database 'amazon' already exists.\n",
      "All pre-existing tables have been dropped.\n"
     ]
    }
   ],
   "source": [
    "# Step 1: Connect to the default database (postgres) to check/create the 'amazon' database\n",
    "try:\n",
    "    # Connect to the 'postgres' database (default)\n",
    "    conn = psycopg2.connect(\n",
    "        host=host,\n",
    "        user=user,\n",
    "        password=postgres_password,\n",
    "        port=postgres_port_no,\n",
    "        database='postgres'  # Connect to 'postgres' instead of 'amazon' initially\n",
    "    )\n",
    "    conn.autocommit = True  # Enable autocommit so that CREATE DATABASE works\n",
    "    cursor = conn.cursor()\n",
    "\n",
    "    # Check if the 'amazon' database exists\n",
    "    cursor.execute(f\"SELECT 1 FROM pg_database WHERE datname = '{database}';\")\n",
    "    exists = cursor.fetchone()\n",
    "\n",
    "    # If the database doesn't exist, create it\n",
    "    if not exists:\n",
    "        cursor.execute(f'CREATE DATABASE {database};')\n",
    "        print(f\"Database '{database}' has been created.\")\n",
    "    else:\n",
    "        print(f\"Database '{database}' already exists.\")\n",
    "    \n",
    "    cursor.close()\n",
    "    conn.close()\n",
    "\n",
    "except Exception as e:\n",
    "    print(f\"Error while creating or checking the database: {e}\")\n",
    "\n",
    "# Step 2: Now connect to the newly created or existing 'amazon' database\n",
    "try:\n",
    "    engine = create_engine(f'postgresql://{user}:{postgres_password}@{host}:{postgres_port_no}/{database}')\n",
    "\n",
    "    # Define MetaData for the DB\n",
    "    metadata = MetaData()\n",
    "\n",
    "    # Reflect existing tables from the 'amazon' database\n",
    "    metadata.reflect(bind=engine)\n",
    "    \n",
    "    # Drop all tables in the 'amazon' database\n",
    "    metadata.drop_all(bind=engine)\n",
    "    print(\"All pre-existing tables have been dropped.\")\n",
    "    \n",
    "except Exception as e:\n",
    "    print(f\"Error while reflecting or dropping tables: {e}\")\n",
    "\n",
    "finally:\n",
    "    metadata = MetaData()\n"
   ]
  },
  {
   "cell_type": "markdown",
   "metadata": {},
   "source": [
    "## Loading tables into database"
   ]
  },
  {
   "cell_type": "code",
   "execution_count": 5,
   "metadata": {},
   "outputs": [],
   "source": [
    "# Define the 'products' table schema\n",
    "products_table = Table('products', metadata,\n",
    "    Column('product_id', String(50), primary_key=True),\n",
    "    Column('product_name', String(500)),\n",
    "    Column('about_product', String),  # Use String for TEXT in SQLAlchemy\n",
    "    Column('category', String(255)),\n",
    "    Column('actual_price', Numeric(10, 2)),\n",
    "    Column('discounted_price', Numeric(10, 2)),\n",
    "    Column('discount_percentage', Numeric(5, 2)),\n",
    "    Column('origin_area', String(50)),\n",
    "    Column('img_link', String(500))\n",
    ")\n",
    "\n",
    "# Define the 'online_sales' table schema\n",
    "online_sales_table = Table('online_sales', metadata,\n",
    "    Column('cust_id', Integer, primary_key=True),\n",
    "    Column('transaction_id', Integer, primary_key=True),\n",
    "    Column('date', Date),\n",
    "    Column('product_id', String(50), primary_key=True),\n",
    "    Column('coupon_status', String(50), primary_key=True),\n",
    "    Column('coupon_code', String(50), primary_key=True),\n",
    "    Column('discount_percentage', Numeric(5,2)),  \n",
    "    Column('delivery_charges', Numeric(10, 2)),\n",
    "    Column('quantity', Integer),\n",
    "    ForeignKeyConstraint(['product_id'],['products.product_id'],ondelete='CASCADE')\n",
    ")\n",
    "\n",
    "# Create the table in the database if it doesn't exist\n",
    "metadata.create_all(engine)"
   ]
  },
  {
   "cell_type": "code",
   "execution_count": 6,
   "metadata": {},
   "outputs": [],
   "source": [
    "# Reading the csvs\n",
    "products_df = pd.read_csv(path_to_products_csv)\n",
    "online_sales_df = pd.read_csv(path_to_online_sales_csv)\n",
    "\n",
    "# Convert 'date' column to correct format if necessary\n",
    "online_sales_df['date'] = pd.to_datetime(online_sales_df['date'], format='%Y-%m-%d', errors='raise').dt.date"
   ]
  },
  {
   "cell_type": "code",
   "execution_count": 7,
   "metadata": {},
   "outputs": [
    {
     "data": {
      "text/plain": [
       "457"
      ]
     },
     "execution_count": 7,
     "metadata": {},
     "output_type": "execute_result"
    }
   ],
   "source": [
    "# Insert data into the PostgreSQL table\n",
    "products_df.to_sql('products', engine, if_exists='append', index=False)\n",
    "online_sales_df.to_sql('online_sales', engine, if_exists='append', index=False)"
   ]
  }
 ],
 "metadata": {
  "kernelspec": {
   "display_name": ".venv",
   "language": "python",
   "name": "python3"
  },
  "language_info": {
   "codemirror_mode": {
    "name": "ipython",
    "version": 3
   },
   "file_extension": ".py",
   "mimetype": "text/x-python",
   "name": "python",
   "nbconvert_exporter": "python",
   "pygments_lexer": "ipython3",
   "version": "3.12.6"
  }
 },
 "nbformat": 4,
 "nbformat_minor": 2
}
